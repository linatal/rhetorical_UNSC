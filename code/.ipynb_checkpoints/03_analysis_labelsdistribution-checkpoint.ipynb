{
 "cells": [
  {
   "cell_type": "code",
   "execution_count": 1,
   "id": "e156d1e8",
   "metadata": {},
   "outputs": [],
   "source": [
    "import pandas as pd\n",
    "import numpy as np\n",
    "import matplotlib\n",
    "import matplotlib.pyplot as plt\n",
    "import ast\n",
    "from configparser import ConfigParser"
   ]
  },
  {
   "cell_type": "code",
   "execution_count": 2,
   "id": "b734c8e9",
   "metadata": {},
   "outputs": [],
   "source": [
    "config = ConfigParser()\n",
    "config.read(\"config.ini\") \n",
    "\n",
    "csvf_aligned = config['CORPORA']['ALIGNED_CONFL_RST']\n",
    "csvf_aligned_parasubtrees = config['OUTPUT']['ALIGNED_CONFL_RST_PARASUBTREES']"
   ]
  },
  {
   "cell_type": "code",
   "execution_count": 3,
   "id": "646732b1",
   "metadata": {},
   "outputs": [],
   "source": [
    "df = pd.read_csv(csvf_aligned_parasubtrees, index_col=0)\n",
    "df = df.replace(\"_\", \"No_Conflict\")"
   ]
  },
  {
   "cell_type": "code",
   "execution_count": 4,
   "id": "b8a8c425",
   "metadata": {},
   "outputs": [],
   "source": [
    "def flatten_comprehension(matrix):\n",
    "    return [item for row in matrix for item in row]"
   ]
  },
  {
   "cell_type": "code",
   "execution_count": 5,
   "id": "974ceb46",
   "metadata": {},
   "outputs": [],
   "source": [
    "def conflicts_to_binary(df):\n",
    "    df = df.replace(\"_\", \"No_Conflict\")\n",
    "    df = df.replace(\"Indirect_NegEval\", \"Conflict\")\n",
    "    df = df.replace(\"Direct_NegEval\", \"Conflict\")\n",
    "    df = df.replace(\"Challenge\", \"Conflict\")\n",
    "    df = df.replace(\"Correction\", \"Conflict\")\n",
    "    return df"
   ]
  },
  {
   "cell_type": "code",
   "execution_count": 6,
   "id": "2e069479",
   "metadata": {},
   "outputs": [],
   "source": [
    "def drop_relations(table):\n",
    "    table = table.drop(\"span\")\n",
    "    table = table.drop(\"sameunit\")\n",
    "    table = table.drop(\"textual-organization\")\n",
    "    table = table.drop(\"topic-comment\")\n",
    "    table = table.drop(\"unless\")\n",
    "    table = table.drop(\"otherwise\")\n",
    "    table = table.drop(\"solutionhood\")\n",
    "    \n",
    "    # merge some relations\n",
    "    table.loc['reason-N'] += table.loc['reason-S']\n",
    "    table.loc['evaluation-N'] += table.loc['evaluation-S']\n",
    "    table = table.drop('reason-S')\n",
    "    table = table.drop('evaluation-S')\n",
    "    table = table.rename({'reason-N': \"reason\", 'evaluation-N': \"evaluation\"})\n",
    "    return table"
   ]
  },
  {
   "cell_type": "code",
   "execution_count": 7,
   "id": "f873af00",
   "metadata": {},
   "outputs": [],
   "source": [
    "# list to reindex based on rst relations groups \n",
    "index_list = [ 'attribution',\n",
    "                # pragmatic\n",
    "                'background', 'enablement', 'evaluation', 'evidence', 'motivation', 'reason', \n",
    "                #contrastive\n",
    "                'antithesis', 'concession', 'contrast',\n",
    "                # sematic\n",
    "                'cause', 'circumstance', 'condition', 'e-elaboration', 'elaboration', 'interpretation',\n",
    "                'means', 'purpose', 'result',\n",
    "                # textual\n",
    "                'preparation', 'restatement', 'summary',\n",
    "                # enumerating\n",
    "                'list',  'conjunction',  'joint', 'sequence']"
   ]
  },
  {
   "cell_type": "code",
   "execution_count": 8,
   "id": "c3ade823",
   "metadata": {},
   "outputs": [],
   "source": [
    "def table_2_crosstable(dataframe):\n",
    "    # Compute a frequency table of two columns (crosstab), here: Conflict Type and RST leaf note relation\n",
    "    crosstb = pd.crosstab(dataframe['Conflict_Type'], df['rstree_relation_leave'])\n",
    "    crosstb['sum'] = crosstb.sum(axis=1) # create a sum of appearances\n",
    "    crosstb_new = crosstb.loc[:, \"antithesis\":\"unless\"].div(crosstb[\"sum\"], axis=0) # divide appearances with sum\n",
    "    crosstb_new_perc = crosstb_new *100 # to percent\n",
    "     # for table \n",
    "    crosstb_new_perc = crosstb_new_perc.transpose() # transpose table (swap rows and columns)\n",
    "    return crosstb_new_perc"
   ]
  },
  {
   "cell_type": "markdown",
   "id": "7e8d5ca3",
   "metadata": {},
   "source": [
    "### 1. Count RST relations on leaf notes for all Conflict types"
   ]
  },
  {
   "cell_type": "markdown",
   "id": "76c3dcca",
   "metadata": {},
   "source": [
    "#### Table Preperation"
   ]
  },
  {
   "cell_type": "code",
   "execution_count": 9,
   "id": "d7c01a2a",
   "metadata": {
    "scrolled": true
   },
   "outputs": [
    {
     "ename": "KeyError",
     "evalue": "'rstree_relation_leaf'",
     "output_type": "error",
     "traceback": [
      "\u001b[0;31m---------------------------------------------------------------------------\u001b[0m",
      "\u001b[0;31mKeyError\u001b[0m                                  Traceback (most recent call last)",
      "File \u001b[0;32m~/miniconda3/lib/python3.10/site-packages/pandas/core/indexes/base.py:3802\u001b[0m, in \u001b[0;36mIndex.get_loc\u001b[0;34m(self, key, method, tolerance)\u001b[0m\n\u001b[1;32m   3801\u001b[0m \u001b[38;5;28;01mtry\u001b[39;00m:\n\u001b[0;32m-> 3802\u001b[0m     \u001b[38;5;28;01mreturn\u001b[39;00m \u001b[38;5;28;43mself\u001b[39;49m\u001b[38;5;241;43m.\u001b[39;49m\u001b[43m_engine\u001b[49m\u001b[38;5;241;43m.\u001b[39;49m\u001b[43mget_loc\u001b[49m\u001b[43m(\u001b[49m\u001b[43mcasted_key\u001b[49m\u001b[43m)\u001b[49m\n\u001b[1;32m   3803\u001b[0m \u001b[38;5;28;01mexcept\u001b[39;00m \u001b[38;5;167;01mKeyError\u001b[39;00m \u001b[38;5;28;01mas\u001b[39;00m err:\n",
      "File \u001b[0;32m~/miniconda3/lib/python3.10/site-packages/pandas/_libs/index.pyx:138\u001b[0m, in \u001b[0;36mpandas._libs.index.IndexEngine.get_loc\u001b[0;34m()\u001b[0m\n",
      "File \u001b[0;32m~/miniconda3/lib/python3.10/site-packages/pandas/_libs/index.pyx:165\u001b[0m, in \u001b[0;36mpandas._libs.index.IndexEngine.get_loc\u001b[0;34m()\u001b[0m\n",
      "File \u001b[0;32mpandas/_libs/hashtable_class_helper.pxi:5745\u001b[0m, in \u001b[0;36mpandas._libs.hashtable.PyObjectHashTable.get_item\u001b[0;34m()\u001b[0m\n",
      "File \u001b[0;32mpandas/_libs/hashtable_class_helper.pxi:5753\u001b[0m, in \u001b[0;36mpandas._libs.hashtable.PyObjectHashTable.get_item\u001b[0;34m()\u001b[0m\n",
      "\u001b[0;31mKeyError\u001b[0m: 'rstree_relation_leaf'",
      "\nThe above exception was the direct cause of the following exception:\n",
      "\u001b[0;31mKeyError\u001b[0m                                  Traceback (most recent call last)",
      "Cell \u001b[0;32mIn[9], line 2\u001b[0m\n\u001b[1;32m      1\u001b[0m \u001b[38;5;66;03m# Compute a frequency table of two columns (crosstab), here: Conflict Type and RST leaf note relation\u001b[39;00m\n\u001b[0;32m----> 2\u001b[0m crosstb1  \u001b[38;5;241m=\u001b[39m \u001b[43mtable_2_crosstable\u001b[49m\u001b[43m(\u001b[49m\u001b[43mdf\u001b[49m\u001b[43m)\u001b[49m\n",
      "Cell \u001b[0;32mIn[8], line 3\u001b[0m, in \u001b[0;36mtable_2_crosstable\u001b[0;34m(dataframe)\u001b[0m\n\u001b[1;32m      1\u001b[0m \u001b[38;5;28;01mdef\u001b[39;00m \u001b[38;5;21mtable_2_crosstable\u001b[39m(dataframe):\n\u001b[1;32m      2\u001b[0m     \u001b[38;5;66;03m# Compute a frequency table of two columns (crosstab), here: Conflict Type and RST leaf note relation\u001b[39;00m\n\u001b[0;32m----> 3\u001b[0m     crosstb \u001b[38;5;241m=\u001b[39m pd\u001b[38;5;241m.\u001b[39mcrosstab(dataframe[\u001b[38;5;124m'\u001b[39m\u001b[38;5;124mConflict_Type\u001b[39m\u001b[38;5;124m'\u001b[39m], \u001b[43mdf\u001b[49m\u001b[43m[\u001b[49m\u001b[38;5;124;43m'\u001b[39;49m\u001b[38;5;124;43mrstree_relation_leaf\u001b[39;49m\u001b[38;5;124;43m'\u001b[39;49m\u001b[43m]\u001b[49m)\n\u001b[1;32m      4\u001b[0m     crosstb[\u001b[38;5;124m'\u001b[39m\u001b[38;5;124msum\u001b[39m\u001b[38;5;124m'\u001b[39m] \u001b[38;5;241m=\u001b[39m crosstb\u001b[38;5;241m.\u001b[39msum(axis\u001b[38;5;241m=\u001b[39m\u001b[38;5;241m1\u001b[39m) \u001b[38;5;66;03m# create a sum of appearances\u001b[39;00m\n\u001b[1;32m      5\u001b[0m     crosstb_new \u001b[38;5;241m=\u001b[39m crosstb\u001b[38;5;241m.\u001b[39mloc[:, \u001b[38;5;124m\"\u001b[39m\u001b[38;5;124mantithesis\u001b[39m\u001b[38;5;124m\"\u001b[39m:\u001b[38;5;124m\"\u001b[39m\u001b[38;5;124munless\u001b[39m\u001b[38;5;124m\"\u001b[39m]\u001b[38;5;241m.\u001b[39mdiv(crosstb[\u001b[38;5;124m\"\u001b[39m\u001b[38;5;124msum\u001b[39m\u001b[38;5;124m\"\u001b[39m], axis\u001b[38;5;241m=\u001b[39m\u001b[38;5;241m0\u001b[39m) \u001b[38;5;66;03m# divide appearances with sum\u001b[39;00m\n",
      "File \u001b[0;32m~/miniconda3/lib/python3.10/site-packages/pandas/core/frame.py:3807\u001b[0m, in \u001b[0;36mDataFrame.__getitem__\u001b[0;34m(self, key)\u001b[0m\n\u001b[1;32m   3805\u001b[0m \u001b[38;5;28;01mif\u001b[39;00m \u001b[38;5;28mself\u001b[39m\u001b[38;5;241m.\u001b[39mcolumns\u001b[38;5;241m.\u001b[39mnlevels \u001b[38;5;241m>\u001b[39m \u001b[38;5;241m1\u001b[39m:\n\u001b[1;32m   3806\u001b[0m     \u001b[38;5;28;01mreturn\u001b[39;00m \u001b[38;5;28mself\u001b[39m\u001b[38;5;241m.\u001b[39m_getitem_multilevel(key)\n\u001b[0;32m-> 3807\u001b[0m indexer \u001b[38;5;241m=\u001b[39m \u001b[38;5;28;43mself\u001b[39;49m\u001b[38;5;241;43m.\u001b[39;49m\u001b[43mcolumns\u001b[49m\u001b[38;5;241;43m.\u001b[39;49m\u001b[43mget_loc\u001b[49m\u001b[43m(\u001b[49m\u001b[43mkey\u001b[49m\u001b[43m)\u001b[49m\n\u001b[1;32m   3808\u001b[0m \u001b[38;5;28;01mif\u001b[39;00m is_integer(indexer):\n\u001b[1;32m   3809\u001b[0m     indexer \u001b[38;5;241m=\u001b[39m [indexer]\n",
      "File \u001b[0;32m~/miniconda3/lib/python3.10/site-packages/pandas/core/indexes/base.py:3804\u001b[0m, in \u001b[0;36mIndex.get_loc\u001b[0;34m(self, key, method, tolerance)\u001b[0m\n\u001b[1;32m   3802\u001b[0m     \u001b[38;5;28;01mreturn\u001b[39;00m \u001b[38;5;28mself\u001b[39m\u001b[38;5;241m.\u001b[39m_engine\u001b[38;5;241m.\u001b[39mget_loc(casted_key)\n\u001b[1;32m   3803\u001b[0m \u001b[38;5;28;01mexcept\u001b[39;00m \u001b[38;5;167;01mKeyError\u001b[39;00m \u001b[38;5;28;01mas\u001b[39;00m err:\n\u001b[0;32m-> 3804\u001b[0m     \u001b[38;5;28;01mraise\u001b[39;00m \u001b[38;5;167;01mKeyError\u001b[39;00m(key) \u001b[38;5;28;01mfrom\u001b[39;00m \u001b[38;5;21;01merr\u001b[39;00m\n\u001b[1;32m   3805\u001b[0m \u001b[38;5;28;01mexcept\u001b[39;00m \u001b[38;5;167;01mTypeError\u001b[39;00m:\n\u001b[1;32m   3806\u001b[0m     \u001b[38;5;66;03m# If we have a listlike key, _check_indexing_error will raise\u001b[39;00m\n\u001b[1;32m   3807\u001b[0m     \u001b[38;5;66;03m#  InvalidIndexError. Otherwise we fall through and re-raise\u001b[39;00m\n\u001b[1;32m   3808\u001b[0m     \u001b[38;5;66;03m#  the TypeError.\u001b[39;00m\n\u001b[1;32m   3809\u001b[0m     \u001b[38;5;28mself\u001b[39m\u001b[38;5;241m.\u001b[39m_check_indexing_error(key)\n",
      "\u001b[0;31mKeyError\u001b[0m: 'rstree_relation_leaf'"
     ]
    }
   ],
   "source": [
    "# Compute a frequency table of two columns (crosstab), here: Conflict Type and RST leaf note relation\n",
    "crosstb1  = table_2_crosstable(df)"
   ]
  },
  {
   "cell_type": "code",
   "execution_count": null,
   "id": "4ce9d3a7",
   "metadata": {},
   "outputs": [],
   "source": [
    "# drop and merge some relations\n",
    "crosstb1 = drop_relations(crosstb1)"
   ]
  },
  {
   "cell_type": "code",
   "execution_count": null,
   "id": "50e606f7",
   "metadata": {},
   "outputs": [],
   "source": [
    "# reindex based on rst relations group (attribution, pragmatic, contrastive, semantic, textual, enumerating)\n",
    "counts1 = crosstb1.reindex(index_list)"
   ]
  },
  {
   "cell_type": "markdown",
   "id": "be237dd0",
   "metadata": {},
   "source": [
    "#### plotting table"
   ]
  },
  {
   "cell_type": "code",
   "execution_count": null,
   "id": "faa0c3f6",
   "metadata": {},
   "outputs": [],
   "source": [
    "from pathlib import Path\n",
    "csv_rst_confl_path = Path(r\"../data/output/rst_distribution_conflicts.csv\")\n"
   ]
  },
  {
   "cell_type": "code",
   "execution_count": null,
   "id": "6fe13204",
   "metadata": {},
   "outputs": [],
   "source": [
    "counts1_round = counts1.round(2)\n",
    "\n",
    "counts1_round.to_csv(csv_rst_confl_path)"
   ]
  },
  {
   "cell_type": "code",
   "execution_count": null,
   "id": "814b20ad",
   "metadata": {},
   "outputs": [],
   "source": [
    "counts1_round"
   ]
  },
  {
   "cell_type": "markdown",
   "id": "abda27bd",
   "metadata": {},
   "source": [
    "#### plotting barchart"
   ]
  },
  {
   "cell_type": "code",
   "execution_count": null,
   "id": "06ea4878",
   "metadata": {
    "scrolled": true
   },
   "outputs": [],
   "source": [
    "#%matplotlib notebook\n",
    "%matplotlib inline\n",
    "\n",
    "plt.style.use('seaborn-v0_8-dark')\n",
    "plt.rcParams[\"figure.figsize\"] = (20,5)\n",
    "plt.rc('font', size=22)\n",
    "plt.rc('xtick', labelsize=22)\n",
    "plt.rcParams['grid.color'] = 'grey'\n",
    "colors= {'Correction': '#377eb8', 'Challenge': '#ff7f00', 'Direct_NegEval': '#4daf4a', 'Indirect_NegEval': '#f781bf', 'No_Conflict': '#a65628'}\n",
    "ax = counts1.plot.bar(width = 0.9, color=colors)\n",
    "\n",
    "plt.axvline([0.5], color= \"black\", linestyle=\"dashed\")\n",
    "plt.axvline([6.5], color= \"black\", linestyle=\"dashed\")\n",
    "plt.axvline([9.5], color= \"black\", linestyle=\"dashed\")\n",
    "plt.axvline([18.5], color= \"black\", linestyle=\"dashed\")\n",
    "plt.axvline([21.5], color= \"black\", linestyle=\"dashed\")\n",
    "\n",
    "ax.set_axisbelow(True)\n",
    "ax.set_facecolor(\"white\")\n",
    "\n",
    "\n",
    "ax.grid()\n",
    "plt.xlabel(\"RST Relation in Leaf Node\")\n",
    "plt.ylabel(\"% per Conflict Type\")\n",
    "plt.legend(loc='center left', bbox_to_anchor=(1.0, 0.5), fontsize=20)\n",
    "\n",
    "#plt.savefig(\"../data/output/img/rst_barchart_conflicttypes.pdf\", format='pdf', bbox_inches='tight')\n",
    "plt.show()"
   ]
  },
  {
   "cell_type": "code",
   "execution_count": null,
   "id": "f6820afe",
   "metadata": {},
   "outputs": [],
   "source": [
    "counts1_sm = counts1.loc[['attribution',\n",
    "               'background', 'enablement', 'evaluation', 'evidence', 'motivation', 'reason',\n",
    "               'antithesis', 'concession', 'contrast']]\n"
   ]
  },
  {
   "cell_type": "code",
   "execution_count": null,
   "id": "e16bf646",
   "metadata": {},
   "outputs": [],
   "source": [
    "#%matplotlib notebook\n",
    "%matplotlib inline\n",
    "\n",
    "plt.style.use('seaborn-v0_8-dark')\n",
    "plt.rcParams[\"figure.figsize\"] = (10,5)\n",
    "plt.rc('font', size=22)\n",
    "plt.rc('xtick', labelsize=22)\n",
    "plt.rcParams['grid.color'] = 'grey'\n",
    "colors= {'Correction': '#377eb8', 'Challenge': '#ff7f00', 'Direct_NegEval': '#4daf4a', 'Indirect_NegEval': '#f781bf', 'No_Conflict': '#a65628'}\n",
    "ax = counts1_sm.plot.bar(width = 0.9, color=colors)\n",
    "\n",
    "plt.axvline([0.5], color= \"black\", linestyle=\"dashed\")\n",
    "plt.axvline([6.5], color= \"black\", linestyle=\"dashed\")\n",
    "plt.axvline([9.5], color= \"black\", linestyle=\"dashed\")\n",
    "plt.axvline([18.5], color= \"black\", linestyle=\"dashed\")\n",
    "plt.axvline([21.5], color= \"black\", linestyle=\"dashed\")\n",
    "\n",
    "ax.set_axisbelow(True)\n",
    "ax.set_facecolor(\"white\")\n",
    "\n",
    "\n",
    "ax.grid()\n",
    "plt.xlabel(\"RST Relation in Leaf Node\")\n",
    "plt.ylabel(\"% per Conflict Type\")\n",
    "\n",
    "matplotlib.rcParams['legend.frameon'] = 'True'\n",
    "plt.legend(facecolor='white', framealpha=1, loc='center', bbox_to_anchor=(1.0, 0.7), fontsize=20)\n",
    "\n",
    "\n",
    "#plt.savefig(\"../data/output/img/rst_barchart_conflicttypes_SM.pdf\", format='pdf', bbox_inches='tight')\n",
    "plt.show()"
   ]
  },
  {
   "cell_type": "markdown",
   "id": "cf242b8b",
   "metadata": {},
   "source": [
    "### (2) Count RST relations on leaf notes for Conflict YES / NO"
   ]
  },
  {
   "cell_type": "markdown",
   "id": "04da47e7",
   "metadata": {},
   "source": [
    "#### Table preperation"
   ]
  },
  {
   "cell_type": "code",
   "execution_count": null,
   "id": "c2de6242",
   "metadata": {},
   "outputs": [],
   "source": [
    "df_b = conflicts_to_binary(df)"
   ]
  },
  {
   "cell_type": "code",
   "execution_count": null,
   "id": "a3bd4040",
   "metadata": {},
   "outputs": [],
   "source": [
    "# Compute a frequency table of two columns (crosstab), here: Conflict Type and RST leaf note relation\n",
    "binary_crosst = table_2_crosstable(df_b)\n",
    "# drop and merge some relations\n",
    "binary_crosst_perc = drop_relations(binary_crosst)\n",
    "# reindex based on rst relations group (attribution, pragmatic, contrastive, semantic, textual, enumerating)\n",
    "binary_crosst_perc = binary_crosst_perc.reindex(index_list)"
   ]
  },
  {
   "cell_type": "code",
   "execution_count": null,
   "id": "36e4047d",
   "metadata": {},
   "outputs": [],
   "source": [
    "binary_crosst_perc"
   ]
  },
  {
   "cell_type": "code",
   "execution_count": null,
   "id": "f7900371",
   "metadata": {},
   "outputs": [],
   "source": [
    "plt.style.use('seaborn-v0_8-dark')\n",
    "plt.rcParams[\"figure.figsize\"] = (20,5)\n",
    "plt.rc('font', size=22)\n",
    "plt.rc('xtick', labelsize=22)\n",
    "plt.rcParams['grid.color'] = 'grey'\n",
    "colors= {'Conflict': '#f781bf', 'No_Conflict': '#a65628'}\n",
    "\n",
    "ax = binary_crosst_perc.plot.bar(color=colors)\n",
    "\n",
    "plt.axvline([0.5], color= \"black\", linestyle=\"dashed\")\n",
    "plt.axvline([6.5], color= \"black\", linestyle=\"dashed\")\n",
    "plt.axvline([9.5], color= \"black\", linestyle=\"dashed\")\n",
    "plt.axvline([18.5], color= \"black\", linestyle=\"dashed\")\n",
    "plt.axvline([21.5], color= \"black\", linestyle=\"dashed\")\n",
    "\n",
    "ax.set_axisbelow(True)\n",
    "ax.grid()\n",
    "ax.set_facecolor(\"white\")\n",
    "ax.set_ylim(ymin=0, ymax=18)\n",
    "plt.xlabel(\"RST Relation in Leaf Node\")\n",
    "plt.ylabel(\"% Conflict vs. No Conflict\")\n",
    "\n",
    "matplotlib.rcParams['legend.frameon'] = 'True'\n",
    "plt.legend(loc='center left', bbox_to_anchor=(1.0, 0.5), fontsize=20)\n",
    "\n",
    "#plt.savefig(\"../data/output/img/rst_barchart_binary.pdf\", format='pdf', bbox_inches='tight')\n",
    "plt.show()"
   ]
  },
  {
   "cell_type": "markdown",
   "id": "9dac6958",
   "metadata": {},
   "source": [
    "### (3) Count RST relations in paragraphs for Conflict Types\n",
    "counts proportion of relations in paragraohs including at least one conflict-EDU comparing all conflict types,\n",
    "counting all relations in a paragraph"
   ]
  },
  {
   "cell_type": "code",
   "execution_count": null,
   "id": "9851e96f",
   "metadata": {},
   "outputs": [],
   "source": [
    "# preparing counts dataframe\n",
    "para_idxs = df['paragraph_id_consecutive'].drop_duplicates().tolist()\n",
    "dconfl_para_list_big = []\n",
    "iconfl_para_list_big = []\n",
    "chalconfl_para_list_big = []\n",
    "corrconfl_para_list_big = []\n",
    "noconfl_para_list_big = []"
   ]
  },
  {
   "cell_type": "code",
   "execution_count": null,
   "id": "42840c8f",
   "metadata": {},
   "outputs": [],
   "source": [
    "for p_idx in para_idxs:\n",
    "    df_para = df[df['paragraph_id_consecutive'] == p_idx]\n",
    "    # Check if \"Conflict\" Exists in Column/paragraph\n",
    "    if (df_para['Conflict_Type'].eq(\"Direct_NegEval\")).any():\n",
    "        for index, row in df_para.iterrows():\n",
    "            # get df['rstree_nodeid_chain'] row from str to lists\n",
    "            y_str = row['rstree_relation_chain_subtree']\n",
    "            y = ast.literal_eval(y_str)\n",
    "            dconfl_para_list_big.append(y)\n",
    "    elif (df_para['Conflict_Type'].eq(\"Indirect_NegEval\")).any():\n",
    "        for index, row in df_para.iterrows():\n",
    "            # get df['rstree_nodeid_chain'] row from str to lists\n",
    "            y_str = row['rstree_relation_chain_subtree']\n",
    "            y = ast.literal_eval(y_str)\n",
    "            iconfl_para_list_big.append(y)\n",
    "    elif (df_para['Conflict_Type'].eq(\"Challenge\")).any():\n",
    "        for index, row in df_para.iterrows():\n",
    "            # get df['rstree_nodeid_chain'] row from str to lists\n",
    "            y_str = row['rstree_relation_chain_subtree']\n",
    "            y = ast.literal_eval(y_str)\n",
    "            chalconfl_para_list_big.append(y)\n",
    "    elif (df_para['Conflict_Type'].eq(\"Correction\")).any():\n",
    "        for index, row in df_para.iterrows():\n",
    "            # get df['rstree_nodeid_chain'] row from str to lists\n",
    "            y_str = row['rstree_relation_chain_subtree']\n",
    "            y = ast.literal_eval(y_str)\n",
    "            corrconfl_para_list_big.append(y)\n",
    "    elif (df_para['Conflict_Type'].eq(\"No_Conflict\")).any():\n",
    "        for index, row in df_para.iterrows():\n",
    "            # get df['rstree_nodeid_chain'] row from str to lists\n",
    "            y_str = row['rstree_relation_chain_subtree']\n",
    "            y = ast.literal_eval(y_str)\n",
    "            noconfl_para_list_big.append(y)"
   ]
  },
  {
   "cell_type": "code",
   "execution_count": null,
   "id": "44caad63",
   "metadata": {},
   "outputs": [],
   "source": [
    "dconfl_para_list_big = flatten_comprehension(dconfl_para_list_big)\n",
    "iconfl_para_list_big = flatten_comprehension(iconfl_para_list_big)\n",
    "chalconfl_para_list_big = flatten_comprehension(chalconfl_para_list_big)\n",
    "corrconfl_para_list_big = flatten_comprehension(corrconfl_para_list_big)\n",
    "noconfl_para_list_big = flatten_comprehension(noconfl_para_list_big)"
   ]
  },
  {
   "cell_type": "code",
   "execution_count": null,
   "id": "ca20dc92",
   "metadata": {},
   "outputs": [],
   "source": [
    "# write lists to dataframes\n",
    "df_dconfl = pd.DataFrame(dconfl_para_list_big, columns=['Direct_NegEval'])\n",
    "df_iconfl = pd.DataFrame(iconfl_para_list_big, columns=['Indirect_NegEval'])\n",
    "df_chalconfl = pd.DataFrame(chalconfl_para_list_big, columns=['Challenge'])\n",
    "df_corrconfl = pd.DataFrame(corrconfl_para_list_big, columns=['Correction'])\n",
    "df_noconfl = pd.DataFrame(noconfl_para_list_big, columns=['No_Conflict'])"
   ]
  },
  {
   "cell_type": "code",
   "execution_count": null,
   "id": "53eb3f5d",
   "metadata": {},
   "outputs": [],
   "source": [
    "counts_dconfl = df_dconfl['Direct_NegEval'].value_counts()\n",
    "counts_iconfl = df_iconfl['Indirect_NegEval'].value_counts()\n",
    "counts_chalconfl = df_chalconfl['Challenge'].value_counts()\n",
    "counts_corrconfl = df_corrconfl['Correction'].value_counts()\n",
    "counts_noconfl = df_noconfl['No_Conflict'].value_counts()"
   ]
  },
  {
   "cell_type": "code",
   "execution_count": null,
   "id": "bbe305a2",
   "metadata": {
    "scrolled": true
   },
   "outputs": [],
   "source": [
    "counts3 = pd.concat([counts_chalconfl, counts_corrconfl, counts_dconfl, counts_iconfl, counts_noconfl], axis=1)\n",
    "# replace NaN Value with zero\n",
    "counts3 = counts3.fillna(0)\n",
    "counts3 = counts3.astype(int)\n",
    "\n",
    "sum_series = counts3.sum()\n",
    "sum_list = sum_series.tolist()\n",
    "counts3 = counts3.sort_index()"
   ]
  },
  {
   "cell_type": "code",
   "execution_count": null,
   "id": "1043db64",
   "metadata": {},
   "outputs": [],
   "source": [
    "counts3.loc[len(counts3)] = sum_list\n",
    "counts3 = counts3.rename({35: 'sum'})\n",
    "# get proportion of labels distribution per conflic vs no-conflict paragraoh\n",
    "counts3 = counts3.loc[\"antithesis\":\"unless\", :].div(counts3.loc[\"sum\"], axis=1)\n",
    "counts3_perc = counts3 *100\n",
    "counts3_perc = drop_relations(counts3_perc)"
   ]
  },
  {
   "cell_type": "code",
   "execution_count": null,
   "id": "99b51233",
   "metadata": {},
   "outputs": [],
   "source": [
    "# small table:\n",
    "counts3_perc = counts3_perc.loc[['attribution',\n",
    "               'background', 'enablement', 'evaluation', 'evidence', 'motivation', 'reason',\n",
    "               'antithesis', 'concession', 'contrast']]"
   ]
  },
  {
   "cell_type": "code",
   "execution_count": null,
   "id": "6e51a2d1",
   "metadata": {},
   "outputs": [],
   "source": [
    "counts3_perc"
   ]
  },
  {
   "cell_type": "code",
   "execution_count": null,
   "id": "b255f36f",
   "metadata": {},
   "outputs": [],
   "source": [
    "#%matplotlib notebook\n",
    "%matplotlib inline\n",
    "\n",
    "plt.style.use('seaborn-v0_8-dark')\n",
    "plt.rcParams[\"figure.figsize\"] = (10,5)\n",
    "plt.rc('font', size=22)\n",
    "plt.rc('xtick', labelsize=22)\n",
    "plt.rcParams['grid.color'] = 'grey'\n",
    "colors= {'Correction': '#377eb8', 'Challenge': '#ff7f00', 'Direct_NegEval': '#4daf4a', 'Indirect_NegEval': '#f781bf', 'No_Conflict': '#a65628'}\n",
    "ax = counts3_perc.plot.bar(width = 0.9, color=colors)\n",
    "\n",
    "plt.axvline([0.5], color= \"black\", linestyle=\"dashed\")\n",
    "plt.axvline([6.5], color= \"black\", linestyle=\"dashed\")\n",
    "plt.axvline([9.5], color= \"black\", linestyle=\"dashed\")\n",
    "plt.axvline([18.5], color= \"black\", linestyle=\"dashed\")\n",
    "plt.axvline([21.5], color= \"black\", linestyle=\"dashed\")\n",
    "\n",
    "ax.set_axisbelow(True)\n",
    "ax.set_facecolor(\"white\")\n",
    "\n",
    "\n",
    "ax.grid()\n",
    "plt.ylim(0, 16)\n",
    "plt.xlabel(\"RST Relation in Paragraph\")\n",
    "plt.ylabel(\"% per Conflict Type\")\n",
    "\n",
    "matplotlib.rcParams['legend.frameon'] = 'True'\n",
    "plt.legend(facecolor='white', framealpha=1, loc='center', bbox_to_anchor=(1.0, 0.7), fontsize=20)\n",
    "\n",
    "plt.show()\n",
    "#plt.savefig(\"../data/output/img/rst_barchart_conflicttypes_para.pdf\", format='pdf', bbox_inches='tight')"
   ]
  },
  {
   "cell_type": "markdown",
   "id": "83eb0fae",
   "metadata": {},
   "source": [
    "### (4) Count RST relations in paragraphs for Conflict YES / NO\n",
    "counts proportion of relations in paragraohs including at least one conflict-EDU vs no conflicts at all,\n",
    "counting all relations in a paragraph"
   ]
  },
  {
   "cell_type": "code",
   "execution_count": null,
   "id": "bc5efd13",
   "metadata": {},
   "outputs": [],
   "source": [
    "df = conflicts_to_binary(df)"
   ]
  },
  {
   "cell_type": "code",
   "execution_count": null,
   "id": "ad8f87ab",
   "metadata": {},
   "outputs": [],
   "source": [
    "# preparing counts dataframe\n",
    "para_idxs = df['paragraph_id_consecutive'].drop_duplicates().tolist()\n",
    "confl_para_list_big = []\n",
    "noconfl_para_list_big = []\n",
    "for p_idx in para_idxs:\n",
    "    df_para = df[df['paragraph_id_consecutive'] == p_idx]\n",
    "    # Check if \"Conflict\" Exists in Column/paragraph\n",
    "    if (df_para['Conflict_Type'].eq(\"Conflict\")).any():\n",
    "        for index, row in df_para.iterrows():\n",
    "            # get df['rstree_nodeid_chain'] row from str to lists\n",
    "            y_str = row['rstree_relation_chain_subtree']\n",
    "            y = ast.literal_eval(y_str)\n",
    "            confl_para_list_big.append(y)\n",
    "    elif (df_para['Conflict_Type'].eq(\"No_Conflict\")).any():\n",
    "        for index, row in df_para.iterrows():\n",
    "            # get df['rstree_nodeid_chain'] row from str to lists\n",
    "            y_str = row['rstree_relation_chain_subtree']\n",
    "            y = ast.literal_eval(y_str)\n",
    "            noconfl_para_list_big.append(y)\n",
    "\n",
    "confl_para_list_big = flatten_comprehension(confl_para_list_big)\n",
    "noconfl_para_list_big = flatten_comprehension(noconfl_para_list_big)\n",
    "df_confl = pd.DataFrame(confl_para_list_big, columns=['Conflict_RST_labels'])\n",
    "df_noconfl = pd.DataFrame(noconfl_para_list_big, columns=['NoConflict_RST_labels'])\n",
    "counts_confl = df_confl['Conflict_RST_labels'].value_counts()\n",
    "counts_noconfl = df_noconfl['NoConflict_RST_labels'].value_counts()\n",
    "counts = pd.concat([counts_confl, counts_noconfl], axis=1)\n",
    "# replace NaN Value with zero\n",
    "counts = counts.fillna(0)\n",
    "counts['NoConflict_RST_labels'] = counts['NoConflict_RST_labels'].astype(int)\n",
    "counts = counts.rename(columns={\"Conflict_RST_labels\" : \"Conflict\", \"NoConflict_RST_labels\": \"No_Conflict\"})\n",
    "\n"
   ]
  },
  {
   "cell_type": "code",
   "execution_count": null,
   "id": "52c22b15",
   "metadata": {},
   "outputs": [],
   "source": [
    "sum_series = counts.sum()\n",
    "sum_list = sum_series.tolist()\n",
    "counts = counts.sort_index()\n",
    "\n",
    "counts.loc[len(counts)] = sum_list\n",
    "counts = counts.rename({35: 'sum'})\n",
    "\n",
    "# get proportion of labels distribution per conflic vs no-conflict paragraoh\n",
    "counts_new = counts.loc[\"antithesis\":\"unless\", :].div(counts.loc[\"sum\"], axis=1)\n",
    "counts_new_perc = counts_new *100"
   ]
  },
  {
   "cell_type": "code",
   "execution_count": null,
   "id": "2b271201",
   "metadata": {
    "scrolled": true
   },
   "outputs": [],
   "source": [
    "counts_new_perc = counts_new_perc.drop(\"span\")\n",
    "counts_new_perc = counts_new_perc.drop(\"sameunit\")\n",
    "counts_new_perc = counts_new_perc.drop(\"summary\")\n",
    "counts_new_perc = counts_new_perc.drop(\"textual-organization\")\n",
    "counts_new_perc = counts_new_perc.drop(\"topic-comment\")\n",
    "counts_new_perc = counts_new_perc.drop(\"unless\")\n",
    "counts_new_perc = counts_new_perc.drop(\"means\")\n",
    "counts_new_perc = counts_new_perc.drop(\"otherwise\")\n",
    "counts_new_perc = counts_new_perc.drop(\"solutionhood\")\n",
    "\n",
    "counts_new_perc.loc['reason-N'] += counts_new_perc.loc['reason-S']\n",
    "counts_new_perc.loc['evaluation-N'] += counts_new_perc.loc['evaluation-S']\n",
    "counts_new_perc = counts_new_perc.drop('reason-S')\n",
    "counts_new_perc = counts_new_perc.drop('evaluation-S')\n",
    "counts_new_perc.rename({'reason-N': \"reason\", 'evaluation-N': \"evaluation\"})"
   ]
  },
  {
   "cell_type": "markdown",
   "id": "3e8229b2",
   "metadata": {},
   "source": [
    "#### plot bar"
   ]
  },
  {
   "cell_type": "code",
   "execution_count": null,
   "id": "56ac53ae",
   "metadata": {},
   "outputs": [],
   "source": [
    "ax = counts_new_perc.plot.bar()\n",
    "ax.set_axisbelow(True)\n",
    "ax.grid()\n",
    "plt.xlabel(\"RST Relation in Paragraph\")\n",
    "plt.ylabel(\"% Relation in Conflict vs. No Conflict\")\n",
    "plt.legend(loc='center left', bbox_to_anchor=(1.0, 0.5), fontsize=17)\n",
    "plt.show()\n",
    "\n"
   ]
  },
  {
   "cell_type": "markdown",
   "id": "9bc43ded",
   "metadata": {},
   "source": []
  }
 ],
 "metadata": {
  "kernelspec": {
   "display_name": "Python 3 (ipykernel)",
   "language": "python",
   "name": "python3"
  },
  "language_info": {
   "codemirror_mode": {
    "name": "ipython",
    "version": 3
   },
   "file_extension": ".py",
   "mimetype": "text/x-python",
   "name": "python",
   "nbconvert_exporter": "python",
   "pygments_lexer": "ipython3",
   "version": "3.10.8"
  }
 },
 "nbformat": 4,
 "nbformat_minor": 5
}
